{
  "nbformat": 4,
  "nbformat_minor": 0,
  "metadata": {
    "colab": {
      "name": "RegModels.ipynb",
      "provenance": [],
      "collapsed_sections": []
    },
    "kernelspec": {
      "display_name": "Python 3",
      "name": "python3"
    },
    "language_info": {
      "name": "python"
    }
  },
  "cells": [
    {
      "cell_type": "code",
      "metadata": {
        "id": "r4qTygtmD89Y",
        "colab": {
          "base_uri": "https://localhost:8080/"
        },
        "outputId": "aca7919e-a496-4463-96a8-da5030f49ba2"
      },
      "source": [
        "!pip install xgboost"
      ],
      "execution_count": 1,
      "outputs": [
        {
          "output_type": "stream",
          "name": "stdout",
          "text": [
            "Requirement already satisfied: xgboost in /usr/local/lib/python3.7/dist-packages (0.90)\n",
            "Requirement already satisfied: numpy in /usr/local/lib/python3.7/dist-packages (from xgboost) (1.19.5)\n",
            "Requirement already satisfied: scipy in /usr/local/lib/python3.7/dist-packages (from xgboost) (1.4.1)\n"
          ]
        }
      ]
    },
    {
      "cell_type": "code",
      "metadata": {
        "id": "_vNeqUhCPQv5"
      },
      "source": [
        "import numpy as np\n",
        "import pickle\n",
        "import pandas as pd\n",
        "from sklearn.linear_model import LinearRegression, Lasso, Ridge, LogisticRegression\n",
        "from sklearn.metrics import *\n",
        "import pandas as pd\n",
        "import numpy as np\n",
        "from xgboost import XGBRegressor\n",
        "from sklearn.model_selection import train_test_split\n",
        "from sklearn.model_selection import cross_val_score, KFold\n",
        "from sklearn.metrics import mean_squared_error\n",
        "import os\n",
        "from sklearn.model_selection import cross_val_score\n",
        "from sklearn.tree import DecisionTreeRegressor\n",
        "from sklearn.ensemble import AdaBoostRegressor\n",
        "import matplotlib.pyplot as plt\n",
        "from sklearn.tree import DecisionTreeClassifier\n",
        "from sklearn.metrics import accuracy_score\n",
        "import random\n",
        "from sklearn.utils import shuffle\n",
        "from sklearn.ensemble import AdaBoostClassifier\n",
        "from sklearn.ensemble import RandomForestRegressor\n"
      ],
      "execution_count": 47,
      "outputs": []
    },
    {
      "cell_type": "code",
      "metadata": {
        "id": "scqH1vJzaV8_"
      },
      "source": [
        "filename = 'FinalDataReg.csv'\n",
        "df = pd.read_csv(filename)\n",
        "df2=pd.read_csv('/content/FinalIndianData.csv')"
      ],
      "execution_count": 7,
      "outputs": []
    },
    {
      "cell_type": "code",
      "metadata": {
        "id": "dUGiTWGXjPCw"
      },
      "source": [
        "df = df.drop(df.columns[[0, 1]], axis=1)\n",
        "df = df.drop(['Mode'], axis=1)\n",
        "df = df.drop(['Time Signature'], axis=1)\n",
        "df = df.drop(['Key'], axis=1)\n",
        "df2 = df2.drop(df2.columns[[0, 1]], axis=1)\n",
        "df2 = df2.drop(['Mode'], axis=1)\n",
        "df2 = df2.drop(['Time Signature'], axis=1)\n",
        "df2 = df2.drop(['Key'], axis=1)"
      ],
      "execution_count": 8,
      "outputs": []
    },
    {
      "cell_type": "code",
      "metadata": {
        "id": "543SXTkDjRBO"
      },
      "source": [
        "for c in df.columns:\n",
        "  if (type(df[c][0]) != type('str') and c!='Popularity'):\n",
        "    maxa = df[c].max()\n",
        "    mina = df[c].min()\n",
        "    df[c] = df[c].apply(lambda x : (x - mina) / (maxa - mina))\n",
        "for c in df.columns:\n",
        "  if (type(df2[c][0]) != type('str') and c!='Popularity'):\n",
        "    maxa = df2[c].max()\n",
        "    mina = df2[c].min()\n",
        "    df2[c] = df2[c].apply(lambda x : (x - mina) / (maxa - mina))"
      ],
      "execution_count": 9,
      "outputs": []
    },
    {
      "cell_type": "code",
      "metadata": {
        "id": "tEk_2kUHjVt6"
      },
      "source": [
        "x = df.drop(['Popularity'],axis=1)\n",
        "y = df[['Popularity']]\n",
        "x2 = df2.drop(['Popularity'],axis=1)\n",
        "y2 = df2[['Popularity']]"
      ],
      "execution_count": 10,
      "outputs": []
    },
    {
      "cell_type": "code",
      "metadata": {
        "id": "iUWTY6wLkTKq"
      },
      "source": [
        "for c in x.columns:\n",
        "  if (type(x[c][0]) == type('str')):\n",
        "    x=x.drop([c],axis=1)\n",
        "for c in x2.columns:\n",
        "  if (type(x2[c][0]) == type('str')):\n",
        "    x2=x2.drop([c],axis=1)"
      ],
      "execution_count": 11,
      "outputs": []
    },
    {
      "cell_type": "code",
      "metadata": {
        "id": "IgUNqx343LkO"
      },
      "source": [
        "traininput, testinput, trainoutput, testoutput = train_test_split(x, y, test_size=0.2, random_state=0)\n",
        "traininput2, testinput2, trainoutput2, testoutput2 = train_test_split(x2, y2, test_size=0.2, random_state=0)"
      ],
      "execution_count": 12,
      "outputs": []
    },
    {
      "cell_type": "code",
      "metadata": {
        "id": "2UVSoz-ZDyu-",
        "colab": {
          "base_uri": "https://localhost:8080/"
        },
        "outputId": "e62bf116-d599-4fe8-a2a3-1f96f2d6aee1"
      },
      "source": [
        "lireg = LinearRegression()\n",
        "lireg.fit(traininput, trainoutput)\n",
        "ypred= lireg.predict(testinput)\n",
        "mse = mean_squared_error(testoutput, ypred)\n",
        "print(\"RMSE: %f\" % (mse**0.5))"
      ],
      "execution_count": 27,
      "outputs": [
        {
          "output_type": "stream",
          "name": "stdout",
          "text": [
            "RMSE: 15.934971\n"
          ]
        }
      ]
    },
    {
      "cell_type": "code",
      "metadata": {
        "id": "qG--mEkaYX4o"
      },
      "source": [
        "pickle.dump(lireg, open(\"lireg.pkl\", \"wb\"))"
      ],
      "execution_count": 28,
      "outputs": []
    },
    {
      "cell_type": "code",
      "metadata": {
        "id": "JTjBMU8MiLwV"
      },
      "source": [
        "y_pred = model.predict(testinput)\n",
        "print(classification_report(testoutput, y_pred))"
      ],
      "execution_count": null,
      "outputs": []
    },
    {
      "cell_type": "code",
      "metadata": {
        "id": "eDFux6CrIoo3",
        "colab": {
          "base_uri": "https://localhost:8080/"
        },
        "outputId": "28ce4445-d1ef-454e-f1c6-f52d27eaf2f1"
      },
      "source": [
        "ridge=Ridge(alpha=0.1)\n",
        "ridge.fit(traininput, trainoutput)\n",
        "ypred = ridge.predict(testinput)\n",
        "mse = mean_squared_error(testoutput, ypred)\n",
        "print(\"RMSE: %f\" % (mse**0.5))"
      ],
      "execution_count": 14,
      "outputs": [
        {
          "output_type": "stream",
          "name": "stdout",
          "text": [
            "RMSE: 15.934967\n"
          ]
        }
      ]
    },
    {
      "cell_type": "code",
      "metadata": {
        "id": "B0HyO4F1YYqu"
      },
      "source": [
        "pickle.dump(ridge, open(\"ridge.pkl\", \"wb\"))"
      ],
      "execution_count": 29,
      "outputs": []
    },
    {
      "cell_type": "code",
      "metadata": {
        "id": "hBueEd3KIpFk",
        "colab": {
          "base_uri": "https://localhost:8080/"
        },
        "outputId": "9f212b35-c955-42ac-841f-b2d800009b50"
      },
      "source": [
        "lasso=Lasso(alpha=0.1)\n",
        "lasso.fit(traininput, trainoutput)\n",
        "ypred = lasso.predict(testinput)\n",
        "mse = mean_squared_error(testoutput, ypred)\n",
        "print(\"RMSE: %f\" % (mse**0.5))"
      ],
      "execution_count": 15,
      "outputs": [
        {
          "output_type": "stream",
          "name": "stdout",
          "text": [
            "RMSE: 16.051243\n"
          ]
        }
      ]
    },
    {
      "cell_type": "code",
      "metadata": {
        "id": "Kaxk4JMLYZUY"
      },
      "source": [
        "pickle.dump(lasso, open(\"lasso.pkl\", \"wb\"))"
      ],
      "execution_count": 42,
      "outputs": []
    },
    {
      "cell_type": "code",
      "metadata": {
        "colab": {
          "base_uri": "https://localhost:8080/"
        },
        "id": "F2XKujeO4xlE",
        "outputId": "03ded6b4-3606-4383-8d27-2a49e6173cd7"
      },
      "source": [
        "regr = AdaBoostRegressor(random_state=0, n_estimators=100)\n",
        "regr.fit(traininput, trainoutput)\n",
        "ypred=regr.predict(testinput)\n",
        "mse = mean_squared_error(testoutput, ypred)\n",
        "print(\"RMSE: %f\" % (mse**0.5))"
      ],
      "execution_count": 16,
      "outputs": [
        {
          "output_type": "stream",
          "name": "stderr",
          "text": [
            "/usr/local/lib/python3.7/dist-packages/sklearn/utils/validation.py:985: DataConversionWarning: A column-vector y was passed when a 1d array was expected. Please change the shape of y to (n_samples, ), for example using ravel().\n",
            "  y = column_or_1d(y, warn=True)\n"
          ]
        },
        {
          "output_type": "stream",
          "name": "stdout",
          "text": [
            "RMSE: 15.638945\n"
          ]
        }
      ]
    },
    {
      "cell_type": "code",
      "metadata": {
        "id": "hoI0YhIjYZ9J"
      },
      "source": [
        "pickle.dump(regr, open(\"adareg.pkl\", \"wb\"))"
      ],
      "execution_count": 31,
      "outputs": []
    },
    {
      "cell_type": "code",
      "metadata": {
        "id": "GFxA4kvg2uOU",
        "colab": {
          "base_uri": "https://localhost:8080/"
        },
        "outputId": "4e4251e8-c6d8-4819-bd15-ba86f64d6430"
      },
      "source": [
        "xgbr = XGBRegressor() \n",
        "xgbr.fit(traininput, trainoutput,eval_metric='rmse')\n",
        "ypred=xgbr.predict(testinput)\n",
        "mse = mean_squared_error(testoutput, ypred)\n",
        "print(\"RMSE: %f\" % (mse**0.5))"
      ],
      "execution_count": 17,
      "outputs": [
        {
          "output_type": "stream",
          "name": "stdout",
          "text": [
            "[16:28:07] WARNING: /workspace/src/objective/regression_obj.cu:152: reg:linear is now deprecated in favor of reg:squarederror.\n",
            "RMSE: 14.774419\n"
          ]
        }
      ]
    },
    {
      "cell_type": "code",
      "metadata": {
        "id": "qFJJVd3HYai6"
      },
      "source": [
        "pickle.dump(xgbr, open(\"xgbreg.pkl\", \"wb\"))"
      ],
      "execution_count": 33,
      "outputs": []
    },
    {
      "cell_type": "code",
      "metadata": {
        "id": "dvm6uiAkVmXR"
      },
      "source": [
        "dreg = DecisionTreeRegressor()\n",
        "dreg.fit(traininput2, trainoutput2)\n",
        "ypred2=dreg.predict(testinput2)"
      ],
      "execution_count": 20,
      "outputs": []
    },
    {
      "cell_type": "code",
      "metadata": {
        "id": "vvzVoQ2cYbMw"
      },
      "source": [
        "pickle.dump(dreg, open(\"dreg.pkl\", \"wb\"))"
      ],
      "execution_count": 34,
      "outputs": []
    },
    {
      "cell_type": "code",
      "metadata": {
        "colab": {
          "base_uri": "https://localhost:8080/"
        },
        "id": "soh79SVmdRub",
        "outputId": "05119ee5-a519-4bc0-fe84-1f2e4ff52109"
      },
      "source": [
        "regressor = RandomForestRegressor(max_depth=14,n_estimators=200)\n",
        "regressor.fit(traininput, trainoutput)\n",
        "ypred=regressor.predict(testinput)\n",
        "mse = mean_squared_error(testoutput, ypred)\n",
        "print(\"RMSE: %f\" % (mse**0.5))"
      ],
      "execution_count": 39,
      "outputs": [
        {
          "output_type": "stream",
          "name": "stderr",
          "text": [
            "/usr/local/lib/python3.7/dist-packages/ipykernel_launcher.py:2: DataConversionWarning: A column-vector y was passed when a 1d array was expected. Please change the shape of y to (n_samples,), for example using ravel().\n",
            "  \n"
          ]
        },
        {
          "output_type": "stream",
          "name": "stdout",
          "text": [
            "RMSE: 14.374806\n"
          ]
        }
      ]
    },
    {
      "cell_type": "code",
      "metadata": {
        "colab": {
          "base_uri": "https://localhost:8080/"
        },
        "id": "28dFrqOCdDZo",
        "outputId": "79dc0861-4c34-412b-ae4d-b0bf5088e068"
      },
      "source": [
        "ypred2=regressor.predict(testinput2)\n",
        "mse = mean_squared_error(testoutput2, ypred2)\n",
        "print(\"RMSE: %f\" % (mse**0.5))"
      ],
      "execution_count": 46,
      "outputs": [
        {
          "output_type": "stream",
          "name": "stdout",
          "text": [
            "RMSE: 16.263797\n"
          ]
        }
      ]
    },
    {
      "cell_type": "code",
      "metadata": {
        "id": "j4NLzW1QaLPu"
      },
      "source": [
        "pickle.dump(regressor, open(\"rfreg.pkl\", \"wb\"))"
      ],
      "execution_count": 44,
      "outputs": []
    },
    {
      "cell_type": "code",
      "metadata": {
        "id": "5ckjEUW2UY4B"
      },
      "source": [
        "ls1=[]\n",
        "for i in range(1,18):\n",
        "  print(i)\n",
        "  regressor = RandomForestRegressor(max_depth=i)\n",
        "  regressor.fit(traininput, trainoutput)\n",
        "  ypred=regressor.predict(testinput)\n",
        "  mse = mean_squared_error(testoutput, ypred)\n",
        "  ls1.append(mse**0.5)"
      ],
      "execution_count": 37,
      "outputs": []
    },
    {
      "cell_type": "code",
      "metadata": {
        "id": "BMaj--PqZ3Tu"
      },
      "source": [
        "y = ls1\n",
        "x = [i for i in range(1,18)]\n",
        "plt.plot(x, y,marker='.')\n",
        "plt.xlabel('Max Depth')\n",
        "plt.ylabel('RMSE')\n",
        "plt.title('RandomForestRegressor')\n",
        "plt.show()"
      ],
      "execution_count": null,
      "outputs": []
    },
    {
      "cell_type": "code",
      "metadata": {
        "id": "GuN_gLoGO1zy"
      },
      "source": [
        "lst2=[50,75,100,125,150,200,250]"
      ],
      "execution_count": null,
      "outputs": []
    },
    {
      "cell_type": "code",
      "metadata": {
        "id": "brrVCujWOtKP"
      },
      "source": [
        "lst=[]\n",
        "for i in lst2:\n",
        "  print(i)\n",
        "  regressor = RandomForestRegressor(max_depth=14,n_estimators=i)\n",
        "  regressor.fit(traininput, trainoutput)\n",
        "  ypred=regressor.predict(testinput)\n",
        "  mse = mean_squared_error(testoutput, ypred)\n",
        "  lst.append(mse**0.5)"
      ],
      "execution_count": null,
      "outputs": []
    },
    {
      "cell_type": "code",
      "metadata": {
        "id": "lW6FU-t8SOlP"
      },
      "source": [
        "x = lst2\n",
        "y = lst\n",
        "plt.plot(x, y,marker='.')\n",
        "plt.xlabel('N Estimators')\n",
        "plt.ylabel('RMSE')\n",
        "plt.title('RandomForestRegressor')\n",
        "plt.show()"
      ],
      "execution_count": null,
      "outputs": []
    }
  ]
}