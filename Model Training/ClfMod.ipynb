{
  "nbformat": 4,
  "nbformat_minor": 5,
  "metadata": {
    "kernelspec": {
      "display_name": "Python 3 (ipykernel)",
      "language": "python",
      "name": "python3"
    },
    "language_info": {
      "codemirror_mode": {
        "name": "ipython",
        "version": 3
      },
      "file_extension": ".py",
      "mimetype": "text/x-python",
      "name": "python",
      "nbconvert_exporter": "python",
      "pygments_lexer": "ipython3",
      "version": "3.9.7"
    },
    "colab": {
      "name": "ClfMod.ipynb",
      "provenance": []
    }
  },
  "cells": [
    {
      "cell_type": "code",
      "metadata": {
        "id": "cd238019"
      },
      "source": [
        "import numpy as np\n",
        "import pandas as pd\n",
        "from sklearn.linear_model import LinearRegression, Lasso, Ridge, LogisticRegression\n",
        "from sklearn.metrics import *\n",
        "import pickle\n",
        "from sklearn.model_selection import cross_val_score\n",
        "from numpy import mean\n",
        "from sklearn import metrics\n",
        "from sklearn.naive_bayes import GaussianNB\n",
        "from sklearn.linear_model import LogisticRegression\n",
        "from sklearn.neighbors import KNeighborsClassifier\n",
        "from sklearn.tree import DecisionTreeClassifier\n",
        "from sklearn.svm import LinearSVC, SVC\n",
        "from sklearn.model_selection import train_test_split\n",
        "from sklearn.ensemble import RandomForestClassifier\n",
        "from sklearn.ensemble import AdaBoostClassifier\n",
        "from sklearn.ensemble import GradientBoostingClassifier\n",
        "from sklearn.neural_network import MLPClassifier\n"
      ],
      "id": "cd238019",
      "execution_count": 90,
      "outputs": []
    },
    {
      "cell_type": "code",
      "metadata": {
        "id": "0850e2c5"
      },
      "source": [
        "df= pd.read_csv('ClfData.csv')"
      ],
      "id": "0850e2c5",
      "execution_count": 84,
      "outputs": []
    },
    {
      "cell_type": "code",
      "metadata": {
        "id": "384f3f7e",
        "colab": {
          "base_uri": "https://localhost:8080/",
          "height": 773
        },
        "outputId": "129316db-8eb5-4e5c-c850-c7bd2d9a5e58"
      },
      "source": [
        "df"
      ],
      "id": "384f3f7e",
      "execution_count": 85,
      "outputs": [
        {
          "output_type": "execute_result",
          "data": {
            "text/html": [
              "<div>\n",
              "<style scoped>\n",
              "    .dataframe tbody tr th:only-of-type {\n",
              "        vertical-align: middle;\n",
              "    }\n",
              "\n",
              "    .dataframe tbody tr th {\n",
              "        vertical-align: top;\n",
              "    }\n",
              "\n",
              "    .dataframe thead th {\n",
              "        text-align: right;\n",
              "    }\n",
              "</style>\n",
              "<table border=\"1\" class=\"dataframe\">\n",
              "  <thead>\n",
              "    <tr style=\"text-align: right;\">\n",
              "      <th></th>\n",
              "      <th>Unnamed: 0</th>\n",
              "      <th>track</th>\n",
              "      <th>artist</th>\n",
              "      <th>uri</th>\n",
              "      <th>danceability</th>\n",
              "      <th>energy</th>\n",
              "      <th>key</th>\n",
              "      <th>loudness</th>\n",
              "      <th>mode</th>\n",
              "      <th>speechiness</th>\n",
              "      <th>acousticness</th>\n",
              "      <th>instrumentalness</th>\n",
              "      <th>liveness</th>\n",
              "      <th>valence</th>\n",
              "      <th>tempo</th>\n",
              "      <th>duration_ms</th>\n",
              "      <th>time_signature</th>\n",
              "      <th>chorus_hit</th>\n",
              "      <th>sections</th>\n",
              "      <th>target</th>\n",
              "      <th>decade</th>\n",
              "    </tr>\n",
              "  </thead>\n",
              "  <tbody>\n",
              "    <tr>\n",
              "      <th>0</th>\n",
              "      <td>0</td>\n",
              "      <td>Otro Trago</td>\n",
              "      <td>Sech, Darell, Nicky Jam, Ozuna &amp; Anuel AA</td>\n",
              "      <td>spotify:track:4bTZeO72FwMa6wKOiqoynL</td>\n",
              "      <td>0.725</td>\n",
              "      <td>0.790</td>\n",
              "      <td>0</td>\n",
              "      <td>-2.331</td>\n",
              "      <td>1</td>\n",
              "      <td>0.1970</td>\n",
              "      <td>0.0711</td>\n",
              "      <td>0.000001</td>\n",
              "      <td>0.0602</td>\n",
              "      <td>0.7630</td>\n",
              "      <td>175.988</td>\n",
              "      <td>287773</td>\n",
              "      <td>4</td>\n",
              "      <td>26.21403</td>\n",
              "      <td>14</td>\n",
              "      <td>1</td>\n",
              "      <td>2010</td>\n",
              "    </tr>\n",
              "    <tr>\n",
              "      <th>1</th>\n",
              "      <td>1</td>\n",
              "      <td>Lucille</td>\n",
              "      <td>The Everly Brothers</td>\n",
              "      <td>spotify:track:5C9ZW69WIoyEGg7QGJaIWI</td>\n",
              "      <td>0.522</td>\n",
              "      <td>0.672</td>\n",
              "      <td>0</td>\n",
              "      <td>-12.882</td>\n",
              "      <td>1</td>\n",
              "      <td>0.0393</td>\n",
              "      <td>0.4790</td>\n",
              "      <td>0.000584</td>\n",
              "      <td>0.0853</td>\n",
              "      <td>0.9650</td>\n",
              "      <td>124.165</td>\n",
              "      <td>152067</td>\n",
              "      <td>4</td>\n",
              "      <td>74.47293</td>\n",
              "      <td>6</td>\n",
              "      <td>1</td>\n",
              "      <td>1960</td>\n",
              "    </tr>\n",
              "    <tr>\n",
              "      <th>2</th>\n",
              "      <td>2</td>\n",
              "      <td>I Wish</td>\n",
              "      <td>Jo Dee Messina</td>\n",
              "      <td>spotify:track:3KW1FwspaOaaqLvcF8vSsS</td>\n",
              "      <td>0.389</td>\n",
              "      <td>0.515</td>\n",
              "      <td>7</td>\n",
              "      <td>-6.224</td>\n",
              "      <td>1</td>\n",
              "      <td>0.0300</td>\n",
              "      <td>0.3880</td>\n",
              "      <td>0.000000</td>\n",
              "      <td>0.0802</td>\n",
              "      <td>0.1640</td>\n",
              "      <td>70.136</td>\n",
              "      <td>213547</td>\n",
              "      <td>4</td>\n",
              "      <td>33.37201</td>\n",
              "      <td>9</td>\n",
              "      <td>1</td>\n",
              "      <td>2000</td>\n",
              "    </tr>\n",
              "    <tr>\n",
              "      <th>3</th>\n",
              "      <td>3</td>\n",
              "      <td>Arrival at Aslan's How - Score</td>\n",
              "      <td>Harry Gregson-Williams</td>\n",
              "      <td>spotify:track:1SZPluGCxfq0d135kMBaDZ</td>\n",
              "      <td>0.149</td>\n",
              "      <td>0.151</td>\n",
              "      <td>6</td>\n",
              "      <td>-17.530</td>\n",
              "      <td>1</td>\n",
              "      <td>0.0379</td>\n",
              "      <td>0.9420</td>\n",
              "      <td>0.988000</td>\n",
              "      <td>0.0846</td>\n",
              "      <td>0.0311</td>\n",
              "      <td>90.979</td>\n",
              "      <td>173293</td>\n",
              "      <td>3</td>\n",
              "      <td>51.76185</td>\n",
              "      <td>8</td>\n",
              "      <td>0</td>\n",
              "      <td>2000</td>\n",
              "    </tr>\n",
              "    <tr>\n",
              "      <th>4</th>\n",
              "      <td>4</td>\n",
              "      <td>Significas Todo Para Mi</td>\n",
              "      <td>Alberto Vazquez</td>\n",
              "      <td>spotify:track:3RxrbM6Q81aC1ycwzzSqMC</td>\n",
              "      <td>0.263</td>\n",
              "      <td>0.417</td>\n",
              "      <td>7</td>\n",
              "      <td>-4.937</td>\n",
              "      <td>0</td>\n",
              "      <td>0.0329</td>\n",
              "      <td>0.8240</td>\n",
              "      <td>0.000008</td>\n",
              "      <td>0.3890</td>\n",
              "      <td>0.3990</td>\n",
              "      <td>73.817</td>\n",
              "      <td>161146</td>\n",
              "      <td>1</td>\n",
              "      <td>94.84050</td>\n",
              "      <td>8</td>\n",
              "      <td>0</td>\n",
              "      <td>1990</td>\n",
              "    </tr>\n",
              "    <tr>\n",
              "      <th>...</th>\n",
              "      <td>...</td>\n",
              "      <td>...</td>\n",
              "      <td>...</td>\n",
              "      <td>...</td>\n",
              "      <td>...</td>\n",
              "      <td>...</td>\n",
              "      <td>...</td>\n",
              "      <td>...</td>\n",
              "      <td>...</td>\n",
              "      <td>...</td>\n",
              "      <td>...</td>\n",
              "      <td>...</td>\n",
              "      <td>...</td>\n",
              "      <td>...</td>\n",
              "      <td>...</td>\n",
              "      <td>...</td>\n",
              "      <td>...</td>\n",
              "      <td>...</td>\n",
              "      <td>...</td>\n",
              "      <td>...</td>\n",
              "      <td>...</td>\n",
              "    </tr>\n",
              "    <tr>\n",
              "      <th>41101</th>\n",
              "      <td>41101</td>\n",
              "      <td>Storms in Africa - Pt. II</td>\n",
              "      <td>Enya</td>\n",
              "      <td>spotify:track:1uQVrfQXsCDaGvjt6qDOWv</td>\n",
              "      <td>0.475</td>\n",
              "      <td>0.463</td>\n",
              "      <td>1</td>\n",
              "      <td>-18.689</td>\n",
              "      <td>1</td>\n",
              "      <td>0.0444</td>\n",
              "      <td>0.7620</td>\n",
              "      <td>0.930000</td>\n",
              "      <td>0.1740</td>\n",
              "      <td>0.5280</td>\n",
              "      <td>104.050</td>\n",
              "      <td>180837</td>\n",
              "      <td>4</td>\n",
              "      <td>46.80989</td>\n",
              "      <td>9</td>\n",
              "      <td>0</td>\n",
              "      <td>1980</td>\n",
              "    </tr>\n",
              "    <tr>\n",
              "      <th>41102</th>\n",
              "      <td>41102</td>\n",
              "      <td>Honey, Honey</td>\n",
              "      <td>ABBA</td>\n",
              "      <td>spotify:track:2KgGzC2tP6DYbatyvdap3O</td>\n",
              "      <td>0.473</td>\n",
              "      <td>0.804</td>\n",
              "      <td>5</td>\n",
              "      <td>-7.697</td>\n",
              "      <td>1</td>\n",
              "      <td>0.0473</td>\n",
              "      <td>0.3240</td>\n",
              "      <td>0.000002</td>\n",
              "      <td>0.3930</td>\n",
              "      <td>0.7350</td>\n",
              "      <td>140.550</td>\n",
              "      <td>176467</td>\n",
              "      <td>4</td>\n",
              "      <td>31.09902</td>\n",
              "      <td>8</td>\n",
              "      <td>1</td>\n",
              "      <td>1970</td>\n",
              "    </tr>\n",
              "    <tr>\n",
              "      <th>41103</th>\n",
              "      <td>41103</td>\n",
              "      <td>International (Link IV)</td>\n",
              "      <td>Peter Thomas</td>\n",
              "      <td>spotify:track:1H1n87rnntgQa7pUmdy1ow</td>\n",
              "      <td>0.533</td>\n",
              "      <td>0.240</td>\n",
              "      <td>4</td>\n",
              "      <td>-12.663</td>\n",
              "      <td>0</td>\n",
              "      <td>0.0457</td>\n",
              "      <td>0.1350</td>\n",
              "      <td>0.977000</td>\n",
              "      <td>0.0570</td>\n",
              "      <td>0.0000</td>\n",
              "      <td>91.720</td>\n",
              "      <td>15629</td>\n",
              "      <td>4</td>\n",
              "      <td>0.00000</td>\n",
              "      <td>0</td>\n",
              "      <td>0</td>\n",
              "      <td>1960</td>\n",
              "    </tr>\n",
              "    <tr>\n",
              "      <th>41104</th>\n",
              "      <td>41104</td>\n",
              "      <td>Veracruz</td>\n",
              "      <td>Javier Solís</td>\n",
              "      <td>spotify:track:1lG5Wj2R70mvV9MxsTxQma</td>\n",
              "      <td>0.542</td>\n",
              "      <td>0.379</td>\n",
              "      <td>9</td>\n",
              "      <td>-10.335</td>\n",
              "      <td>0</td>\n",
              "      <td>0.0338</td>\n",
              "      <td>0.7070</td>\n",
              "      <td>0.001150</td>\n",
              "      <td>0.2370</td>\n",
              "      <td>0.6500</td>\n",
              "      <td>118.203</td>\n",
              "      <td>161013</td>\n",
              "      <td>4</td>\n",
              "      <td>43.96417</td>\n",
              "      <td>11</td>\n",
              "      <td>0</td>\n",
              "      <td>1960</td>\n",
              "    </tr>\n",
              "    <tr>\n",
              "      <th>41105</th>\n",
              "      <td>41105</td>\n",
              "      <td>Aberdeen Mississippi Blues</td>\n",
              "      <td>Bukka White</td>\n",
              "      <td>spotify:track:7E25omG6JvGlMnfkJdzLwP</td>\n",
              "      <td>0.605</td>\n",
              "      <td>0.183</td>\n",
              "      <td>8</td>\n",
              "      <td>-14.216</td>\n",
              "      <td>1</td>\n",
              "      <td>0.0374</td>\n",
              "      <td>0.9030</td>\n",
              "      <td>0.156000</td>\n",
              "      <td>0.0953</td>\n",
              "      <td>0.6020</td>\n",
              "      <td>105.182</td>\n",
              "      <td>155973</td>\n",
              "      <td>4</td>\n",
              "      <td>54.07931</td>\n",
              "      <td>7</td>\n",
              "      <td>0</td>\n",
              "      <td>1970</td>\n",
              "    </tr>\n",
              "  </tbody>\n",
              "</table>\n",
              "<p>41106 rows × 21 columns</p>\n",
              "</div>"
            ],
            "text/plain": [
              "       Unnamed: 0                           track  ... target decade\n",
              "0               0                      Otro Trago  ...      1   2010\n",
              "1               1                         Lucille  ...      1   1960\n",
              "2               2                          I Wish  ...      1   2000\n",
              "3               3  Arrival at Aslan's How - Score  ...      0   2000\n",
              "4               4         Significas Todo Para Mi  ...      0   1990\n",
              "...           ...                             ...  ...    ...    ...\n",
              "41101       41101       Storms in Africa - Pt. II  ...      0   1980\n",
              "41102       41102                    Honey, Honey  ...      1   1970\n",
              "41103       41103         International (Link IV)  ...      0   1960\n",
              "41104       41104                        Veracruz  ...      0   1960\n",
              "41105       41105      Aberdeen Mississippi Blues  ...      0   1970\n",
              "\n",
              "[41106 rows x 21 columns]"
            ]
          },
          "metadata": {},
          "execution_count": 85
        }
      ]
    },
    {
      "cell_type": "code",
      "metadata": {
        "id": "aa287b75"
      },
      "source": [
        "df = df.drop(df.columns[[0, 1]], axis=1)\n",
        "df = df.drop(['mode'], axis=1)\n",
        "df = df.drop(['time_signature'], axis=1)\n",
        "df = df.drop(['key'], axis=1)\n",
        "for c in df.columns:\n",
        "  if (type(df[c][0]) != type('str') and c!='target'):\n",
        "    maxa = df[c].max()\n",
        "    mina = df[c].min()\n",
        "    df[c] = df[c].apply(lambda x : (x - mina) / (maxa - mina))\n",
        "x = df.drop(['target'],axis=1)\n",
        "y = df[['target']]\n",
        "for c in x.columns:\n",
        "  if (type(x[c][0]) == type('str')):\n",
        "    x=x.drop([c],axis=1)\n"
      ],
      "id": "aa287b75",
      "execution_count": 86,
      "outputs": []
    },
    {
      "cell_type": "code",
      "metadata": {
        "id": "4acd7555"
      },
      "source": [
        "traininput, testinput, trainoutput, testoutput = train_test_split(x, y, train_size=0.8, shuffle=True, random_state=1)"
      ],
      "id": "4acd7555",
      "execution_count": 95,
      "outputs": []
    },
    {
      "cell_type": "code",
      "metadata": {
        "colab": {
          "base_uri": "https://localhost:8080/"
        },
        "id": "bNSuLBaNdUkZ",
        "outputId": "86df824b-b320-4b06-812e-e066cd65d1a1"
      },
      "source": [
        "loreg = LogisticRegression()\n",
        "loreg.fit(traininput, trainoutput)\n",
        "print(loreg.score(testinput,testoutput))"
      ],
      "id": "bNSuLBaNdUkZ",
      "execution_count": 96,
      "outputs": [
        {
          "output_type": "stream",
          "name": "stderr",
          "text": [
            "/usr/local/lib/python3.7/dist-packages/sklearn/utils/validation.py:985: DataConversionWarning: A column-vector y was passed when a 1d array was expected. Please change the shape of y to (n_samples, ), for example using ravel().\n",
            "  y = column_or_1d(y, warn=True)\n"
          ]
        },
        {
          "output_type": "stream",
          "name": "stdout",
          "text": [
            "0.7402091948431039\n"
          ]
        }
      ]
    },
    {
      "cell_type": "code",
      "metadata": {
        "id": "7uMiSn8me4bY"
      },
      "source": [
        "pickle.dump(loreg, open(\"loreg.pkl\", \"wb\"))"
      ],
      "id": "7uMiSn8me4bY",
      "execution_count": 97,
      "outputs": []
    },
    {
      "cell_type": "code",
      "metadata": {
        "colab": {
          "base_uri": "https://localhost:8080/"
        },
        "id": "ZGCiIHguiiSQ",
        "outputId": "5cb14dbd-e1d4-4acb-9444-4e2dc5690d3d"
      },
      "source": [
        "print(classification_report(testoutput, loreg.predict(testinput)))"
      ],
      "id": "ZGCiIHguiiSQ",
      "execution_count": 98,
      "outputs": [
        {
          "output_type": "stream",
          "name": "stdout",
          "text": [
            "              precision    recall  f1-score   support\n",
            "\n",
            "           0       0.79      0.65      0.71      4071\n",
            "           1       0.71      0.83      0.76      4151\n",
            "\n",
            "    accuracy                           0.74      8222\n",
            "   macro avg       0.75      0.74      0.74      8222\n",
            "weighted avg       0.75      0.74      0.74      8222\n",
            "\n"
          ]
        }
      ]
    },
    {
      "cell_type": "code",
      "metadata": {
        "colab": {
          "base_uri": "https://localhost:8080/",
          "height": 351
        },
        "id": "IjL6m4K7hZIA",
        "outputId": "e93db831-4d1b-45d5-e4e8-70bbaea050cd"
      },
      "source": [
        "metrics.plot_roc_curve(loreg, testinput, testoutput)"
      ],
      "id": "IjL6m4K7hZIA",
      "execution_count": 99,
      "outputs": [
        {
          "output_type": "stream",
          "name": "stderr",
          "text": [
            "/usr/local/lib/python3.7/dist-packages/sklearn/utils/deprecation.py:87: FutureWarning: Function plot_roc_curve is deprecated; Function `plot_roc_curve` is deprecated in 1.0 and will be removed in 1.2. Use one of the class methods: RocCurveDisplay.from_predictions or RocCurveDisplay.from_estimator.\n",
            "  warnings.warn(msg, category=FutureWarning)\n"
          ]
        },
        {
          "output_type": "execute_result",
          "data": {
            "text/plain": [
              "<sklearn.metrics._plot.roc_curve.RocCurveDisplay at 0x7fae48b03ed0>"
            ]
          },
          "metadata": {},
          "execution_count": 99
        },
        {
          "output_type": "display_data",
          "data": {
            "image/png": "[encoded data removed]",
            "text/plain": [
              "<Figure size 432x288 with 1 Axes>"
            ]
          },
          "metadata": {
            "needs_background": "light"
          }
        }
      ]
    },
    {
      "cell_type": "code",
      "metadata": {
        "colab": {
          "base_uri": "https://localhost:8080/"
        },
        "id": "WYUpaEBQluZt",
        "outputId": "a6b4d221-dcec-48d0-e384-0843f141345e"
      },
      "source": [
        "gnb = GaussianNB()\n",
        "gnb.fit(traininput, trainoutput)\n",
        "print(gnb.score(testinput,testoutput))"
      ],
      "id": "WYUpaEBQluZt",
      "execution_count": 100,
      "outputs": [
        {
          "output_type": "stream",
          "name": "stdout",
          "text": [
            "0.7141814643639017\n"
          ]
        },
        {
          "output_type": "stream",
          "name": "stderr",
          "text": [
            "/usr/local/lib/python3.7/dist-packages/sklearn/utils/validation.py:985: DataConversionWarning: A column-vector y was passed when a 1d array was expected. Please change the shape of y to (n_samples, ), for example using ravel().\n",
            "  y = column_or_1d(y, warn=True)\n"
          ]
        }
      ]
    },
    {
      "cell_type": "code",
      "metadata": {
        "id": "RULQ36qNmIgR"
      },
      "source": [
        "pickle.dump(gnb, open(\"gnb.pkl\", \"wb\"))"
      ],
      "id": "RULQ36qNmIgR",
      "execution_count": 101,
      "outputs": []
    },
    {
      "cell_type": "code",
      "metadata": {
        "colab": {
          "base_uri": "https://localhost:8080/"
        },
        "id": "yqIbExlSmEAS",
        "outputId": "e83b7304-7652-41b5-b663-e7807ca4e5e3"
      },
      "source": [
        "print(classification_report(testoutput, gnb.predict(testinput)))"
      ],
      "id": "yqIbExlSmEAS",
      "execution_count": 102,
      "outputs": [
        {
          "output_type": "stream",
          "name": "stdout",
          "text": [
            "              precision    recall  f1-score   support\n",
            "\n",
            "           0       0.83      0.53      0.65      4071\n",
            "           1       0.66      0.89      0.76      4151\n",
            "\n",
            "    accuracy                           0.71      8222\n",
            "   macro avg       0.74      0.71      0.70      8222\n",
            "weighted avg       0.74      0.71      0.70      8222\n",
            "\n"
          ]
        }
      ]
    },
    {
      "cell_type": "code",
      "metadata": {
        "colab": {
          "base_uri": "https://localhost:8080/",
          "height": 351
        },
        "id": "gTGqo4gatQSq",
        "outputId": "2ab5527e-292f-45e1-8cf4-667d1502ac2a"
      },
      "source": [
        "metrics.plot_roc_curve(gnb, testinput, testoutput)"
      ],
      "id": "gTGqo4gatQSq",
      "execution_count": 103,
      "outputs": [
        {
          "output_type": "stream",
          "name": "stderr",
          "text": [
            "/usr/local/lib/python3.7/dist-packages/sklearn/utils/deprecation.py:87: FutureWarning: Function plot_roc_curve is deprecated; Function `plot_roc_curve` is deprecated in 1.0 and will be removed in 1.2. Use one of the class methods: RocCurveDisplay.from_predictions or RocCurveDisplay.from_estimator.\n",
            "  warnings.warn(msg, category=FutureWarning)\n"
          ]
        },
        {
          "output_type": "execute_result",
          "data": {
            "text/plain": [
              "<sklearn.metrics._plot.roc_curve.RocCurveDisplay at 0x7fae48a4b610>"
            ]
          },
          "metadata": {},
          "execution_count": 103
        },
        {
          "output_type": "display_data",
          "data": {
            "image/png": "[encoded data removed]",
            "text/plain": [
              "<Figure size 432x288 with 1 Axes>"
            ]
          },
          "metadata": {
            "needs_background": "light"
          }
        }
      ]
    },
    {
      "cell_type": "code",
      "metadata": {
        "colab": {
          "base_uri": "https://localhost:8080/"
        },
        "id": "XNHsCZJXdnTE",
        "outputId": "6ee4379e-609e-403e-ae02-0b99d067a362"
      },
      "source": [
        "dtc= DecisionTreeClassifier()\n",
        "dtc.fit(traininput, trainoutput)\n",
        "print(dtc.score(testinput,testoutput))"
      ],
      "id": "XNHsCZJXdnTE",
      "execution_count": 104,
      "outputs": [
        {
          "output_type": "stream",
          "name": "stdout",
          "text": [
            "0.720749209438093\n"
          ]
        }
      ]
    },
    {
      "cell_type": "code",
      "metadata": {
        "colab": {
          "base_uri": "https://localhost:8080/"
        },
        "id": "8vOprFeVi1f4",
        "outputId": "b100500a-38da-4ca9-e8ed-3be4778ace71"
      },
      "source": [
        "print(classification_report(testoutput, dtc.predict(testinput)))"
      ],
      "id": "8vOprFeVi1f4",
      "execution_count": 105,
      "outputs": [
        {
          "output_type": "stream",
          "name": "stdout",
          "text": [
            "              precision    recall  f1-score   support\n",
            "\n",
            "           0       0.72      0.72      0.72      4071\n",
            "           1       0.72      0.72      0.72      4151\n",
            "\n",
            "    accuracy                           0.72      8222\n",
            "   macro avg       0.72      0.72      0.72      8222\n",
            "weighted avg       0.72      0.72      0.72      8222\n",
            "\n"
          ]
        }
      ]
    },
    {
      "cell_type": "code",
      "metadata": {
        "colab": {
          "base_uri": "https://localhost:8080/",
          "height": 351
        },
        "id": "5Eq2nFEphfDM",
        "outputId": "4573f387-e3e6-4107-e8ff-045e30a5ac5b"
      },
      "source": [
        "metrics.plot_roc_curve(dtc, testinput, testoutput)"
      ],
      "id": "5Eq2nFEphfDM",
      "execution_count": 106,
      "outputs": [
        {
          "output_type": "stream",
          "name": "stderr",
          "text": [
            "/usr/local/lib/python3.7/dist-packages/sklearn/utils/deprecation.py:87: FutureWarning: Function plot_roc_curve is deprecated; Function `plot_roc_curve` is deprecated in 1.0 and will be removed in 1.2. Use one of the class methods: RocCurveDisplay.from_predictions or RocCurveDisplay.from_estimator.\n",
            "  warnings.warn(msg, category=FutureWarning)\n"
          ]
        },
        {
          "output_type": "execute_result",
          "data": {
            "text/plain": [
              "<sklearn.metrics._plot.roc_curve.RocCurveDisplay at 0x7fae48a1e550>"
            ]
          },
          "metadata": {},
          "execution_count": 106
        },
        {
          "output_type": "display_data",
          "data": {
            "image/png": "[encoded data removed]",
            "text/plain": [
              "<Figure size 432x288 with 1 Axes>"
            ]
          },
          "metadata": {
            "needs_background": "light"
          }
        }
      ]
    },
    {
      "cell_type": "code",
      "metadata": {
        "id": "Uwa3-W5Teru_"
      },
      "source": [
        "pickle.dump(dtc, open(\"dtc.pkl\", \"wb\"))"
      ],
      "id": "Uwa3-W5Teru_",
      "execution_count": 107,
      "outputs": []
    },
    {
      "cell_type": "code",
      "metadata": {
        "colab": {
          "base_uri": "https://localhost:8080/"
        },
        "id": "2njWPftqdns3",
        "outputId": "93cb55a8-78e2-4b1f-eb46-4edf3cf38318"
      },
      "source": [
        "rfc = RandomForestClassifier()\n",
        "rfc.fit(traininput, trainoutput)\n",
        "print(rfc.score(testinput,testoutput))"
      ],
      "id": "2njWPftqdns3",
      "execution_count": 30,
      "outputs": [
        {
          "output_type": "stream",
          "name": "stderr",
          "text": [
            "/usr/local/lib/python3.7/dist-packages/ipykernel_launcher.py:2: DataConversionWarning: A column-vector y was passed when a 1d array was expected. Please change the shape of y to (n_samples,), for example using ravel().\n",
            "  \n"
          ]
        },
        {
          "output_type": "stream",
          "name": "stdout",
          "text": [
            "0.8077359714563737\n"
          ]
        }
      ]
    },
    {
      "cell_type": "code",
      "metadata": {
        "colab": {
          "base_uri": "https://localhost:8080/"
        },
        "id": "0W1uhjfbi4mM",
        "outputId": "e1b0abe3-cddb-4077-803a-b8b224371a98"
      },
      "source": [
        "print(classification_report(testoutput, rfc.predict(testinput)))"
      ],
      "id": "0W1uhjfbi4mM",
      "execution_count": 62,
      "outputs": [
        {
          "output_type": "stream",
          "name": "stdout",
          "text": [
            "              precision    recall  f1-score   support\n",
            "\n",
            "           0       0.84      0.76      0.80      6170\n",
            "           1       0.78      0.86      0.82      6162\n",
            "\n",
            "    accuracy                           0.81     12332\n",
            "   macro avg       0.81      0.81      0.81     12332\n",
            "weighted avg       0.81      0.81      0.81     12332\n",
            "\n"
          ]
        }
      ]
    },
    {
      "cell_type": "code",
      "metadata": {
        "colab": {
          "base_uri": "https://localhost:8080/",
          "height": 351
        },
        "id": "oOPm-Pn4hiXS",
        "outputId": "35516708-0bab-4d48-c8f1-ab9864e590da"
      },
      "source": [
        "metrics.plot_roc_curve(rfc, testinput, testoutput)"
      ],
      "id": "oOPm-Pn4hiXS",
      "execution_count": 52,
      "outputs": [
        {
          "output_type": "stream",
          "name": "stderr",
          "text": [
            "/usr/local/lib/python3.7/dist-packages/sklearn/utils/deprecation.py:87: FutureWarning: Function plot_roc_curve is deprecated; Function `plot_roc_curve` is deprecated in 1.0 and will be removed in 1.2. Use one of the class methods: RocCurveDisplay.from_predictions or RocCurveDisplay.from_estimator.\n",
            "  warnings.warn(msg, category=FutureWarning)\n"
          ]
        },
        {
          "output_type": "execute_result",
          "data": {
            "text/plain": [
              "<sklearn.metrics._plot.roc_curve.RocCurveDisplay at 0x7fae4a978e10>"
            ]
          },
          "metadata": {},
          "execution_count": 52
        },
        {
          "output_type": "display_data",
          "data": {
            "image/png": "[encoded data removed]",
            "text/plain": [
              "<Figure size 432x288 with 1 Axes>"
            ]
          },
          "metadata": {
            "needs_background": "light"
          }
        }
      ]
    },
    {
      "cell_type": "code",
      "metadata": {
        "id": "IXwytom7e9bx"
      },
      "source": [
        "pickle.dump(rfc, open(\"rfc.pkl\", \"wb\"))"
      ],
      "id": "IXwytom7e9bx",
      "execution_count": 43,
      "outputs": []
    },
    {
      "cell_type": "code",
      "metadata": {
        "colab": {
          "base_uri": "https://localhost:8080/"
        },
        "id": "CiRi8bWodn5p",
        "outputId": "d997fd56-8883-4138-cdf0-7f9d8542af3a"
      },
      "source": [
        "svc = SVC()\n",
        "svc.fit(traininput, trainoutput)\n",
        "print(svc.score(testinput,testoutput))"
      ],
      "id": "CiRi8bWodn5p",
      "execution_count": 108,
      "outputs": [
        {
          "output_type": "stream",
          "name": "stderr",
          "text": [
            "/usr/local/lib/python3.7/dist-packages/sklearn/utils/validation.py:985: DataConversionWarning: A column-vector y was passed when a 1d array was expected. Please change the shape of y to (n_samples, ), for example using ravel().\n",
            "  y = column_or_1d(y, warn=True)\n"
          ]
        },
        {
          "output_type": "stream",
          "name": "stdout",
          "text": [
            "0.7774264169301873\n"
          ]
        }
      ]
    },
    {
      "cell_type": "code",
      "metadata": {
        "colab": {
          "base_uri": "https://localhost:8080/"
        },
        "id": "mc1X-fhajCJ6",
        "outputId": "8c4533f6-cf19-4ed8-aff0-cf9ee3c1ad31"
      },
      "source": [
        "print(classification_report(testoutput, svc.predict(testinput)))"
      ],
      "id": "mc1X-fhajCJ6",
      "execution_count": 109,
      "outputs": [
        {
          "output_type": "stream",
          "name": "stdout",
          "text": [
            "              precision    recall  f1-score   support\n",
            "\n",
            "           0       0.85      0.66      0.75      4071\n",
            "           1       0.73      0.89      0.80      4151\n",
            "\n",
            "    accuracy                           0.78      8222\n",
            "   macro avg       0.79      0.78      0.77      8222\n",
            "weighted avg       0.79      0.78      0.77      8222\n",
            "\n"
          ]
        }
      ]
    },
    {
      "cell_type": "code",
      "metadata": {
        "id": "m1LU4eamgObx"
      },
      "source": [
        "pickle.dump(svc, open(\"svc.pkl\", \"wb\"))"
      ],
      "id": "m1LU4eamgObx",
      "execution_count": 110,
      "outputs": []
    },
    {
      "cell_type": "code",
      "metadata": {
        "colab": {
          "base_uri": "https://localhost:8080/",
          "height": 351
        },
        "id": "YdD0v7fShmDj",
        "outputId": "ce00c960-b3ce-4745-8697-d91135c4c5a6"
      },
      "source": [
        "metrics.plot_roc_curve(svc, testinput, testoutput)"
      ],
      "id": "YdD0v7fShmDj",
      "execution_count": 111,
      "outputs": [
        {
          "output_type": "stream",
          "name": "stderr",
          "text": [
            "/usr/local/lib/python3.7/dist-packages/sklearn/utils/deprecation.py:87: FutureWarning: Function plot_roc_curve is deprecated; Function `plot_roc_curve` is deprecated in 1.0 and will be removed in 1.2. Use one of the class methods: RocCurveDisplay.from_predictions or RocCurveDisplay.from_estimator.\n",
            "  warnings.warn(msg, category=FutureWarning)\n"
          ]
        },
        {
          "output_type": "execute_result",
          "data": {
            "text/plain": [
              "<sklearn.metrics._plot.roc_curve.RocCurveDisplay at 0x7fae48a26fd0>"
            ]
          },
          "metadata": {},
          "execution_count": 111
        },
        {
          "output_type": "display_data",
          "data": {
            "image/png": "[encoded data removed]",
            "text/plain": [
              "<Figure size 432x288 with 1 Axes>"
            ]
          },
          "metadata": {
            "needs_background": "light"
          }
        }
      ]
    },
    {
      "cell_type": "code",
      "metadata": {
        "colab": {
          "base_uri": "https://localhost:8080/"
        },
        "id": "yObFcTTSdoRn",
        "outputId": "6301facd-7fd1-40f9-f61f-524ddae6fbd7"
      },
      "source": [
        "mlp = MLPClassifier()\n",
        "mlp.fit(traininput, trainoutput)\n",
        "print(mlp.score(testinput,testoutput))"
      ],
      "id": "yObFcTTSdoRn",
      "execution_count": 112,
      "outputs": [
        {
          "output_type": "stream",
          "name": "stderr",
          "text": [
            "/usr/local/lib/python3.7/dist-packages/sklearn/neural_network/_multilayer_perceptron.py:1109: DataConversionWarning: A column-vector y was passed when a 1d array was expected. Please change the shape of y to (n_samples, ), for example using ravel().\n",
            "  y = column_or_1d(y, warn=True)\n"
          ]
        },
        {
          "output_type": "stream",
          "name": "stdout",
          "text": [
            "0.7976161517878861\n"
          ]
        },
        {
          "output_type": "stream",
          "name": "stderr",
          "text": [
            "/usr/local/lib/python3.7/dist-packages/sklearn/neural_network/_multilayer_perceptron.py:696: ConvergenceWarning: Stochastic Optimizer: Maximum iterations (200) reached and the optimization hasn't converged yet.\n",
            "  ConvergenceWarning,\n"
          ]
        }
      ]
    },
    {
      "cell_type": "code",
      "metadata": {
        "colab": {
          "base_uri": "https://localhost:8080/"
        },
        "id": "T5ckNnfwjD8g",
        "outputId": "b0e735bc-6bdb-4763-9488-3d9db2ccfa81"
      },
      "source": [
        "print(classification_report(testoutput, mlp.predict(testinput)))"
      ],
      "id": "T5ckNnfwjD8g",
      "execution_count": 113,
      "outputs": [
        {
          "output_type": "stream",
          "name": "stdout",
          "text": [
            "              precision    recall  f1-score   support\n",
            "\n",
            "           0       0.84      0.73      0.78      4071\n",
            "           1       0.77      0.86      0.81      4151\n",
            "\n",
            "    accuracy                           0.80      8222\n",
            "   macro avg       0.80      0.80      0.80      8222\n",
            "weighted avg       0.80      0.80      0.80      8222\n",
            "\n"
          ]
        }
      ]
    },
    {
      "cell_type": "code",
      "metadata": {
        "id": "iixP_0abg3Ey"
      },
      "source": [
        "pickle.dump(mlp, open(\"mlp.pkl\", \"wb\"))"
      ],
      "id": "iixP_0abg3Ey",
      "execution_count": 114,
      "outputs": []
    },
    {
      "cell_type": "code",
      "metadata": {
        "colab": {
          "base_uri": "https://localhost:8080/",
          "height": 351
        },
        "id": "3Gw-ULvaho3P",
        "outputId": "ea629c71-c4b1-4805-9b91-9d8ff1ecc89d"
      },
      "source": [
        "metrics.plot_roc_curve(mlp, testinput, testoutput)"
      ],
      "id": "3Gw-ULvaho3P",
      "execution_count": 54,
      "outputs": [
        {
          "output_type": "stream",
          "name": "stderr",
          "text": [
            "/usr/local/lib/python3.7/dist-packages/sklearn/utils/deprecation.py:87: FutureWarning: Function plot_roc_curve is deprecated; Function `plot_roc_curve` is deprecated in 1.0 and will be removed in 1.2. Use one of the class methods: RocCurveDisplay.from_predictions or RocCurveDisplay.from_estimator.\n",
            "  warnings.warn(msg, category=FutureWarning)\n"
          ]
        },
        {
          "output_type": "execute_result",
          "data": {
            "text/plain": [
              "<sklearn.metrics._plot.roc_curve.RocCurveDisplay at 0x7fae4a80cb10>"
            ]
          },
          "metadata": {},
          "execution_count": 54
        },
        {
          "output_type": "display_data",
          "data": {
            "image/png": "[encoded data removed]",
            "text/plain": [
              "<Figure size 432x288 with 1 Axes>"
            ]
          },
          "metadata": {
            "needs_background": "light"
          }
        }
      ]
    },
    {
      "cell_type": "code",
      "metadata": {
        "colab": {
          "base_uri": "https://localhost:8080/"
        },
        "id": "wvtc64Esdof0",
        "outputId": "6b3c0278-daed-48ba-9ff0-c5fe0e903562"
      },
      "source": [
        "gdc = GradientBoostingClassifier()\n",
        "gdc.fit(traininput, trainoutput)\n",
        "print(gdc.score(testinput,testoutput))"
      ],
      "id": "wvtc64Esdof0",
      "execution_count": 47,
      "outputs": [
        {
          "output_type": "stream",
          "name": "stderr",
          "text": [
            "/usr/local/lib/python3.7/dist-packages/sklearn/ensemble/_gb.py:494: DataConversionWarning: A column-vector y was passed when a 1d array was expected. Please change the shape of y to (n_samples, ), for example using ravel().\n",
            "  y = column_or_1d(y, warn=True)\n"
          ]
        },
        {
          "output_type": "stream",
          "name": "stdout",
          "text": [
            "0.7960590334090172\n"
          ]
        }
      ]
    },
    {
      "cell_type": "code",
      "metadata": {
        "colab": {
          "base_uri": "https://localhost:8080/"
        },
        "id": "ZWspXdKTjGrj",
        "outputId": "1346b926-5c35-4e19-f05c-207104aa70d7"
      },
      "source": [
        "print(classification_report(testoutput, gdc.predict(testinput)))"
      ],
      "id": "ZWspXdKTjGrj",
      "execution_count": 65,
      "outputs": [
        {
          "output_type": "stream",
          "name": "stdout",
          "text": [
            "              precision    recall  f1-score   support\n",
            "\n",
            "           0       0.84      0.73      0.78      6170\n",
            "           1       0.76      0.87      0.81      6162\n",
            "\n",
            "    accuracy                           0.80     12332\n",
            "   macro avg       0.80      0.80      0.80     12332\n",
            "weighted avg       0.80      0.80      0.80     12332\n",
            "\n"
          ]
        }
      ]
    },
    {
      "cell_type": "code",
      "metadata": {
        "colab": {
          "base_uri": "https://localhost:8080/",
          "height": 351
        },
        "id": "Z7lxv-xehtuH",
        "outputId": "59885ada-9e16-40f3-e2bf-1eb9b09bbc4a"
      },
      "source": [
        "metrics.plot_roc_curve(gdc, testinput, testoutput)"
      ],
      "id": "Z7lxv-xehtuH",
      "execution_count": 55,
      "outputs": [
        {
          "output_type": "stream",
          "name": "stderr",
          "text": [
            "/usr/local/lib/python3.7/dist-packages/sklearn/utils/deprecation.py:87: FutureWarning: Function plot_roc_curve is deprecated; Function `plot_roc_curve` is deprecated in 1.0 and will be removed in 1.2. Use one of the class methods: RocCurveDisplay.from_predictions or RocCurveDisplay.from_estimator.\n",
            "  warnings.warn(msg, category=FutureWarning)\n"
          ]
        },
        {
          "output_type": "execute_result",
          "data": {
            "text/plain": [
              "<sklearn.metrics._plot.roc_curve.RocCurveDisplay at 0x7fae4ad67d50>"
            ]
          },
          "metadata": {},
          "execution_count": 55
        },
        {
          "output_type": "display_data",
          "data": {
            "image/png": "[encoded data removed]",
            "text/plain": [
              "<Figure size 432x288 with 1 Axes>"
            ]
          },
          "metadata": {
            "needs_background": "light"
          }
        }
      ]
    },
    {
      "cell_type": "code",
      "metadata": {
        "id": "9krl6dpJhLCQ"
      },
      "source": [
        "pickle.dump(gdc, open(\"gdc.pkl\", \"wb\"))"
      ],
      "id": "9krl6dpJhLCQ",
      "execution_count": 48,
      "outputs": []
    },
    {
      "cell_type": "code",
      "metadata": {
        "colab": {
          "base_uri": "https://localhost:8080/"
        },
        "id": "taRO2Jb6ecui",
        "outputId": "575245a1-51cd-4a3a-c1e2-90b51209cd8e"
      },
      "source": [
        "knn=KNeighborsClassifier()\n",
        "knn.fit(traininput, trainoutput)\n",
        "print(knn.score(testinput,testoutput))"
      ],
      "id": "taRO2Jb6ecui",
      "execution_count": 37,
      "outputs": [
        {
          "output_type": "stream",
          "name": "stderr",
          "text": [
            "/usr/local/lib/python3.7/dist-packages/sklearn/neighbors/_classification.py:198: DataConversionWarning: A column-vector y was passed when a 1d array was expected. Please change the shape of y to (n_samples,), for example using ravel().\n",
            "  return self._fit(X, y)\n"
          ]
        },
        {
          "output_type": "stream",
          "name": "stdout",
          "text": [
            "0.7560817385663315\n"
          ]
        }
      ]
    },
    {
      "cell_type": "code",
      "metadata": {
        "colab": {
          "base_uri": "https://localhost:8080/"
        },
        "id": "S9NUkiHbjJL8",
        "outputId": "72c23b19-98bd-4b79-bc25-b4ec862c9618"
      },
      "source": [
        "print(classification_report(testoutput, knn.predict(testinput)))"
      ],
      "id": "S9NUkiHbjJL8",
      "execution_count": 66,
      "outputs": [
        {
          "output_type": "stream",
          "name": "stdout",
          "text": [
            "              precision    recall  f1-score   support\n",
            "\n",
            "           0       0.80      0.68      0.74      6170\n",
            "           1       0.72      0.83      0.77      6162\n",
            "\n",
            "    accuracy                           0.76     12332\n",
            "   macro avg       0.76      0.76      0.75     12332\n",
            "weighted avg       0.76      0.76      0.75     12332\n",
            "\n"
          ]
        }
      ]
    },
    {
      "cell_type": "code",
      "metadata": {
        "colab": {
          "base_uri": "https://localhost:8080/",
          "height": 351
        },
        "id": "QMMlpf9Bhxb8",
        "outputId": "668150cb-6e74-43ca-df45-6f2b8be79c56"
      },
      "source": [
        "metrics.plot_roc_curve(knn, testinput, testoutput)"
      ],
      "id": "QMMlpf9Bhxb8",
      "execution_count": 56,
      "outputs": [
        {
          "output_type": "stream",
          "name": "stderr",
          "text": [
            "/usr/local/lib/python3.7/dist-packages/sklearn/utils/deprecation.py:87: FutureWarning: Function plot_roc_curve is deprecated; Function `plot_roc_curve` is deprecated in 1.0 and will be removed in 1.2. Use one of the class methods: RocCurveDisplay.from_predictions or RocCurveDisplay.from_estimator.\n",
            "  warnings.warn(msg, category=FutureWarning)\n"
          ]
        },
        {
          "output_type": "execute_result",
          "data": {
            "text/plain": [
              "<sklearn.metrics._plot.roc_curve.RocCurveDisplay at 0x7fae4b1d63d0>"
            ]
          },
          "metadata": {},
          "execution_count": 56
        },
        {
          "output_type": "display_data",
          "data": {
            "image/png": "[encoded data removed]",
            "text/plain": [
              "<Figure size 432x288 with 1 Axes>"
            ]
          },
          "metadata": {
            "needs_background": "light"
          }
        }
      ]
    },
    {
      "cell_type": "code",
      "metadata": {
        "id": "Rd7B2Hghg5mj"
      },
      "source": [
        "pickle.dump(knn, open(\"knn.pkl\", \"wb\"))"
      ],
      "id": "Rd7B2Hghg5mj",
      "execution_count": 46,
      "outputs": []
    }
  ]
}